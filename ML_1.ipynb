{
 "cells": [
  {
   "cell_type": "code",
   "execution_count": 22,
   "id": "138e37db",
   "metadata": {},
   "outputs": [
    {
     "name": "stdout",
     "output_type": "stream",
     "text": [
      "90.0\n",
      "91.0\n",
      "82.0\n",
      "90.0\n",
      "85.5\n"
     ]
    }
   ],
   "source": [
    "s1=[89,90,78,93,80]\n",
    "s2=[90,91,85,88,86]\n",
    "s3=[91,92,83,89,90.5]\n",
    "s=zip(s1,s2,s3)\n",
    "for x in s:\n",
    "    y= sum(x)/3\n",
    "    print(y)"
   ]
  },
  {
   "cell_type": "code",
   "execution_count": 76,
   "id": "4c4a4b6b",
   "metadata": {},
   "outputs": [
    {
     "name": "stdout",
     "output_type": "stream",
     "text": [
      "12\n",
      "insert 0 5\n",
      "insert 1 10\n",
      "insert 0 6\n",
      "print\n",
      "remove 6\n",
      "append 9\n",
      "append 1\n",
      "sort\n",
      "print\n",
      "pop\n",
      "reverse\n",
      "print\n",
      "[6, 5, 10]\n",
      "[1, 5, 9, 10]\n",
      "[9, 5, 1]\n"
     ]
    }
   ],
   "source": [
    "if __name__ == '__main__':\n",
    "    N = int(input())\n",
    "    \n",
    "list_=[]    \n",
    "query=[]\n",
    "\n",
    "for i in range(N):\n",
    "    x=input().split()\n",
    "    query.append(x)\n",
    "\n",
    "for i in query:    \n",
    "    #print(i[0])\n",
    "    if i[0]=='append':\n",
    "        list_.append(int(i[1]))\n",
    "    elif i[0]=='insert':\n",
    "        list_.insert(int(i[1]),int(i[2]))\n",
    "    elif i[0]=='print':\n",
    "        print(list_)\n",
    "    elif i[0]=='remove':\n",
    "        list_.remove(int(i[1]))\n",
    "    elif i[0]=='sort':\n",
    "        list_.sort()\n",
    "    elif i[0]=='pop':\n",
    "        list_.pop()\n",
    "    elif i[0]=='reverse':\n",
    "        list_.reverse()\n",
    "    "
   ]
  },
  {
   "cell_type": "code",
   "execution_count": 20,
   "id": "d236a2c5",
   "metadata": {},
   "outputs": [
    {
     "name": "stdout",
     "output_type": "stream",
     "text": [
      "2\n",
      "Harsh 25 26.5 28\n",
      "Anurag 26 28 30\n",
      "Harsh\n",
      "26.50\n"
     ]
    }
   ],
   "source": [
    "if __name__ == '__main__':\n",
    "    n = int(input())\n",
    "    student_marks = {}\n",
    "    for _ in range(n):\n",
    "        name, *line = input().split()\n",
    "        scores = list(map(float, line))\n",
    "        student_marks[name] = scores\n",
    "    query_name = input()\n",
    "    print(format(sum(student_marks[query_name])/3,'.2f'))"
   ]
  },
  {
   "cell_type": "code",
   "execution_count": 1,
   "id": "42627a94",
   "metadata": {},
   "outputs": [
    {
     "name": "stdout",
     "output_type": "stream",
     "text": [
      "1\n",
      "nayak.arayn@rediffmail.com\n",
      "[]\n"
     ]
    }
   ],
   "source": [
    "def fun(s):\n",
    "    valid = True\n",
    "    \n",
    "    if s.count('@') != 1:\n",
    "        return not valid\n",
    "    else:\n",
    "        username, rear = s.split('@')\n",
    "        if len(username)>0:\n",
    "            for t in username:\n",
    "                if not (t.isalnum() or t in ['_', '-']):\n",
    "                    return not valid\n",
    "        else:\n",
    "            return not valid\n",
    "                \n",
    "        if rear.count(\".\") != 1:\n",
    "            return not valid\n",
    "        else:\n",
    "            website, extension = rear.split('.')\n",
    "            if len(extension)>3:\n",
    "                return not valid\n",
    "            else:\n",
    "                for t in extension:\n",
    "                    if not t.isalpha():\n",
    "                        return not valid\n",
    "            \n",
    "            for t in website:\n",
    "                if not t.isalnum():\n",
    "                    return not valid\n",
    "    return valid\n",
    "    \n",
    "        \n",
    "def filter_mail(emails):\n",
    "    return list(filter(fun, emails))\n",
    "\n",
    "if __name__ == '__main__':\n",
    "    n = int(input())\n",
    "    emails = []\n",
    "    for _ in range(n):\n",
    "        emails.append(input())\n",
    "\n",
    "filtered_emails = filter_mail(emails)\n",
    "filtered_emails.sort()\n",
    "print(filtered_emails)"
   ]
  },
  {
   "cell_type": "code",
   "execution_count": 6,
   "id": "2135eca2",
   "metadata": {},
   "outputs": [
    {
     "name": "stdout",
     "output_type": "stream",
     "text": [
      "abracadabra\n",
      "5 k\n",
      "abrackdabra\n"
     ]
    }
   ],
   "source": [
    "def mutate_string(string, position, character):\n",
    "    return string[:position]+\"k\"+string[position+1:]\n",
    "\n",
    "if __name__ == '__main__':\n",
    "    s = input()\n",
    "    i, c = input().split()\n",
    "    s_new = mutate_string(s, int(i), c)\n",
    "    print(s_new)"
   ]
  },
  {
   "cell_type": "code",
   "execution_count": 60,
   "id": "16243c2e",
   "metadata": {},
   "outputs": [
    {
     "name": "stdout",
     "output_type": "stream",
     "text": [
      "[10, 20, 30, 40, 10] True\n",
      "[75, 65, 35, 75, 30] False\n"
     ]
    }
   ],
   "source": [
    "def check(item):\n",
    "    s=len(item)\n",
    "    if item[0]==item[s-1]:\n",
    "        return True\n",
    "    else:\n",
    "        return False\n",
    "x = [10, 20, 30, 40, 10]\n",
    "y = [75, 65, 35, 75, 30]\n",
    "z=[x]+[y]\n",
    "for item in z:\n",
    "    print(item,check(item))"
   ]
  },
  {
   "cell_type": "code",
   "execution_count": 75,
   "id": "595f81cf",
   "metadata": {},
   "outputs": [
    {
     "name": "stdout",
     "output_type": "stream",
     "text": [
      "1\n",
      "22\n",
      "333\n",
      "4444\n",
      "55555\n"
     ]
    }
   ],
   "source": [
    "a=1\n",
    "i=5\n",
    "j=1\n",
    "for k in range (0,i):\n",
    "    print((j*str(a)))\n",
    "    a=a+1\n",
    "    j=j+1"
   ]
  }
 ],
 "metadata": {
  "kernelspec": {
   "display_name": "Python 3 (ipykernel)",
   "language": "python",
   "name": "python3"
  },
  "language_info": {
   "codemirror_mode": {
    "name": "ipython",
    "version": 3
   },
   "file_extension": ".py",
   "mimetype": "text/x-python",
   "name": "python",
   "nbconvert_exporter": "python",
   "pygments_lexer": "ipython3",
   "version": "3.9.13"
  }
 },
 "nbformat": 4,
 "nbformat_minor": 5
}
